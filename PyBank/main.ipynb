{
 "cells": [
  {
   "cell_type": "code",
   "execution_count": 38,
   "metadata": {},
   "outputs": [
    {
     "name": "stdout",
     "output_type": "stream",
     "text": [
      "Total number of months: 86\n",
      "Total Amount: 38382578\n",
      "Average: 6269.05\n",
      "Greatest Increase in Profits: Feb-12 ($1926159)\n",
      "Greatest Decrease in Profits: Sep-13 ($-2196167)\n"
     ]
    }
   ],
   "source": [
    "total_number_of_months = 0\n",
    "total_amount = 0\n",
    "list_of_amounts = []\n",
    "list_of_months = []\n",
    "\n",
    "\n",
    "with open('./budget_data.csv', 'r') as reader:\n",
    "    ## read the header and discard it\n",
    "    line = reader.readline()\n",
    "    \n",
    "    ## read the record and start processing\n",
    "    line = reader.readline()\n",
    "    \n",
    "    while line != '':\n",
    "        words = line.split(\",\")\n",
    "        total_amount = total_amount + int(words[1])\n",
    "        total_number_of_months += 1\n",
    "        list_of_months.append(words[0])\n",
    "        list_of_amounts.append(int(words[1]))\n",
    "        line = reader.readline()  \n",
    "        \n",
    "low = 0\n",
    "high = 1\n",
    "\n",
    "Greatest_Increase_in_Profits = 0\n",
    "Greatest_Increase_in_Profits_Index = 0\n",
    "\n",
    "Greatest_Decrease_in_Profits = 0\n",
    "Greatest_Decrease_in_Profits_Index = 0\n",
    "\n",
    "while high <  total_number_of_months:\n",
    "    monthly_change = list_of_amounts[high] - list_of_amounts[low]\n",
    "    total_amount_changed = amount_changed + monthly_change\n",
    "    if monthly_change > Greatest_Increase_in_Profits:\n",
    "        Greatest_Increase_in_Profits = monthly_change\n",
    "        Greatest_Increase_in_Profits_Index = high\n",
    "    if monthly_change < Greatest_Decrease_in_Profits:\n",
    "        Greatest_Decrease_in_Profits = monthly_change\n",
    "        Greatest_Decrease_in_Profits_Index = high\n",
    "    low += 1\n",
    "    high +=1\n",
    "\n",
    "print (f\"Total number of months: {total_number_of_months}\")\n",
    "print (f\"Total Amount: {total_amount}\")\n",
    "average = total_amount_changed / (total_number_of_months - 1)\n",
    "average_r = round (average,2)\n",
    "print (f\"Average: {average_r}\")\n",
    "print (f\"Greatest Increase in Profits: {list_of_months[Greatest_Increase_in_Profits_Index]} (${Greatest_Increase_in_Profits})\")\n",
    "print (f\"Greatest Decrease in Profits: {list_of_months[Greatest_Decrease_in_Profits_Index]} (${Greatest_Decrease_in_Profits})\")                                          "
   ]
  },
  {
   "cell_type": "code",
   "execution_count": null,
   "metadata": {},
   "outputs": [],
   "source": []
  }
 ],
 "metadata": {
  "kernelspec": {
   "display_name": "Python 3",
   "language": "python",
   "name": "python3"
  },
  "language_info": {
   "codemirror_mode": {
    "name": "ipython",
    "version": 3
   },
   "file_extension": ".py",
   "mimetype": "text/x-python",
   "name": "python",
   "nbconvert_exporter": "python",
   "pygments_lexer": "ipython3",
   "version": "3.8.5"
  }
 },
 "nbformat": 4,
 "nbformat_minor": 4
}
